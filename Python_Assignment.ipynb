{
  "cells": [
    {
      "cell_type": "markdown",
      "metadata": {
        "id": "view-in-github",
        "colab_type": "text"
      },
      "source": [
        "<a href=\"https://colab.research.google.com/github/abhinandancreation/abhinandancreation/blob/main/Python_Assignment.ipynb\" target=\"_parent\"><img src=\"https://colab.research.google.com/assets/colab-badge.svg\" alt=\"Open In Colab\"/></a>"
      ]
    },
    {
      "cell_type": "markdown",
      "metadata": {
        "id": "TvYf1_dp1__R"
      },
      "source": [
        "## **Random Split String**"
      ]
    },
    {
      "cell_type": "code",
      "execution_count": null,
      "metadata": {
        "id": "F4gysN8KddpE"
      },
      "outputs": [],
      "source": [
        "import numpy as np\n",
        "\n",
        "istr=\"supercalifraqilisticexpialidocious\"\n",
        "jstr=\"Pneumonoultramicroscopicsilicovolcanoconiosis\"\n",
        "def random_split_string(str):\n",
        "  s=[]\n",
        "  n=np.random.randint(1,len(str))\n",
        "  s.append(str[:n])\n",
        "  s.append(str[n:])\n",
        "  return s\n",
        "\n",
        "for i in range(1,11):\n",
        "  print(random_split_string(istr))\n",
        "\n",
        "print(\"\")\n",
        "\n",
        "for i in range(1,11):\n",
        "  print(random_split_string(jstr))"
      ]
    },
    {
      "cell_type": "markdown",
      "metadata": {
        "id": "D7YErI3WnFPW"
      },
      "source": [
        "## Heights"
      ]
    },
    {
      "cell_type": "code",
      "execution_count": null,
      "metadata": {
        "id": "TcOi-4tcnIdJ"
      },
      "outputs": [],
      "source": [
        "import matplotlib.pyplot as plt\n",
        "import matplotlib.patches as patches\n",
        "import numpy as np\n",
        "\n",
        "students=[\"Hir\",\"Harsh\",\"Aadi\",\"Jewel\",\"Manas\",\"Shiva\",\"Diyanshi\",\"Tiya\",\"Diya\",\"Juhi\",\"Tanushree\"]\n",
        "heights=[180,171,168,176,182,181,163,170,165,154,165]\n",
        "forearm=[27,26,25,26.5,29,28,23,25,23,20,24]\n",
        "\n",
        "np_heights=np.array(heights)\n",
        "np_forearm=np.array(forearm)\n",
        "ratio=np_heights/np_forearm\n",
        "\n",
        "bar1=[0,1.5,3,4.5,6,7.5,9,10.5,12,13.5,15]\n",
        "bar2=[i+0.5 for i in bar1]\n",
        "\n",
        "barWidth=0.5\n",
        "\n",
        "fig1=plt.subplots(figsize=(15,8))\n",
        "plt.bar(bar1,heights,color='orange',width=0.5)\n",
        "plt.bar(bar2,forearm,color='blue',width=0.5)\n",
        "\n",
        "plt.xlabel('Students', fontsize = 15) \n",
        "plt.ylabel('Height in cm', fontsize = 15) \n",
        "plt.xticks([i+0.25 for i in bar1], students )\n",
        "\n",
        "fig2=plt.figure(figsize=(15,8))\n",
        "plt.bar(students, ratio, color=\"brown\", width=barWidth)"
      ]
    },
    {
      "cell_type": "markdown",
      "metadata": {
        "id": "gUbxrZ2KsV6C"
      },
      "source": [
        "## Data Clusters"
      ]
    },
    {
      "cell_type": "code",
      "execution_count": null,
      "metadata": {
        "id": "ZQMQ5gzNyDtB"
      },
      "outputs": [],
      "source": [
        "import numpy as np\n",
        "import matplotlib.pyplot as plt \n",
        "import matplotlib.patches as patches\n",
        "import math\n",
        "\n",
        "def data_clusters(n,M):\n",
        "  \"\"\"This function will generate n random clusters(circle) \n",
        "  with M random points each.\n",
        "  \"\"\"\n",
        "\n",
        "  fig=plt.figure(figsize=(10,10)) # setting up the canvas\n",
        "  ax=fig.add_subplot()\n",
        "  plt.xlim(0,1)\n",
        "  plt.ylim(0,1)\n",
        "  \n",
        "  # making the plot colourful\n",
        "  col=[\"pink\",\"blue\", \"yellow\", \"magenta\",\"red\"]\n",
        "\n",
        "  for i in range(n): # this for loop will generate n clusters\n",
        "    o_ptx=np.random.uniform(low=0.12,high=0.88,size=1) #\n",
        "    o_pty=np.random.uniform(low=0.12,high=0.88,size=1)\n",
        "    circles=patches.Circle((o_ptx,o_pty),radius=0.12,color=col[i],alpha=0.35)\n",
        "    ax.add_patch(circles)\n",
        "    for i in range(M*30): # this for loop will generate M points for each cluster\n",
        "      ptsx=np.random.uniform(low=0,high=1,size=1)\n",
        "      ptsy=np.random.uniform(low=0,high=1,size=1)\n",
        "      if (math.sqrt(((ptsx-o_ptx)**2)+((ptsy-o_pty)**2)))<0.12:\n",
        "        plt.scatter(ptsx,ptsy,c=\"black\")\n",
        "\n",
        "data_clusters(5,20)"
      ]
    },
    {
      "cell_type": "markdown",
      "metadata": {
        "id": "vDoaNsxe4dX5"
      },
      "source": [
        "## Stickman"
      ]
    },
    {
      "cell_type": "code",
      "execution_count": null,
      "metadata": {
        "id": "nMFmRXutz_GI"
      },
      "outputs": [],
      "source": [
        "import math\n",
        "import numpy as np\n",
        "import matplotlib.pyplot as plt\n",
        "import matplotlib.patches as patches\n",
        "import turtle\n",
        "\n",
        "fig, ax=plt.subplots(figsize=(10,10))\n",
        "plt.xlim(0,1)\n",
        "plt.ylim(0,1)\n",
        "ax.grid()\n",
        "#face=patches.Circle((0.5,0.75),\n",
        "ground=patches.Rectangle([0,0],1,0.4,color=\"yellowgreen\")\n",
        "ax.add_patch(ground)\n",
        "stump1=patches.Rectangle([0.05,0.2],0.02,0.2)\n",
        "ax.add_patch(stump1)\n",
        "face=patches.Circle((0.5,0.75),0.1,color='tan')\n",
        "ax.add_patch(face)\n",
        "body=patches.Rectangle((0.4,0.35),width=0.2,height=0.3,color=\"b\")\n",
        "ax.add_patch (body)\n",
        "bat_handle=patches.Rectangle((0.255,0.65),0.015,0.12,12,color=\"black\")\n",
        "ax.add_patch(bat_handle)\n",
        "bat=patches.Rectangle((0.2,0.76),0.08,0.5,12,color=\"bisque\")\n",
        "ax.add_patch(bat)\n",
        "helmet=patches.Arc((0.5,0.8),0.2,0.1)\n",
        "ax.add_patch(helmet)\n",
        "\n",
        "def joiner(x1,y1,x2,y2,lw):\n",
        "  return ax.plot ([x1,x2],[y1,y2],color=\"black\", linewidth=lw)\n",
        "\n",
        "joiner(0.6,0.6,0.7,0.6,1.5) # right arm\n",
        "joiner(0.7,0.6,0.775,0.8,1.5) # right forearm\n",
        "joiner(0.4,0.6,0.3,0.6,1.5) # left arm\n",
        "joiner(0.3,0.6,0.26,0.7,1.5) # left forearm\n",
        "joiner(0.42,0.35,0.42,0.18,4.5) # left leg\n",
        "joiner(0.58,0.35,0.58,0.18,4.5) # right leg\n",
        "\n"
      ]
    }
  ],
  "metadata": {
    "colab": {
      "collapsed_sections": [
        "TvYf1_dp1__R",
        "D7YErI3WnFPW"
      ],
      "provenance": [],
      "authorship_tag": "ABX9TyP+oqm6fQSRiomCWBMEepP6",
      "include_colab_link": true
    },
    "kernelspec": {
      "display_name": "Python 3",
      "name": "python3"
    },
    "language_info": {
      "name": "python"
    }
  },
  "nbformat": 4,
  "nbformat_minor": 0
}